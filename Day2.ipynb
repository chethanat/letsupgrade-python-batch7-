{
 "cells": [
  {
   "cell_type": "markdown",
   "metadata": {},
   "source": [
    "# List and its default functions"
   ]
  },
  {
   "cell_type": "code",
   "execution_count": null,
   "metadata": {},
   "outputs": [],
   "source": [
    "#list example"
   ]
  },
  {
   "cell_type": "code",
   "execution_count": 1,
   "metadata": {},
   "outputs": [
    {
     "name": "stdout",
     "output_type": "stream",
     "text": [
      "['Janauary', 'February', 'March', 'April', 'May', 'June', 'July', 'August', 'September', 'October', 'November', 'December']\n"
     ]
    }
   ],
   "source": [
    "months = ['Janauary', 'February', 'March', 'April', 'May', 'June', 'July',\n",
    "          'August', 'September', 'October', 'November', 'December']\n",
    "\n",
    "print(months)"
   ]
  },
  {
   "cell_type": "markdown",
   "metadata": {},
   "source": [
    "# default functions"
   ]
  },
  {
   "cell_type": "code",
   "execution_count": 3,
   "metadata": {},
   "outputs": [
    {
     "name": "stdout",
     "output_type": "stream",
     "text": [
      "['April', 'August', 'December', 'February', 'Janauary', 'July', 'June', 'March', 'May', 'November', 'October', 'September']\n"
     ]
    }
   ],
   "source": [
    "#sort function for sorting list\n",
    "months.sort()\n",
    "print(months)"
   ]
  },
  {
   "cell_type": "code",
   "execution_count": 4,
   "metadata": {},
   "outputs": [
    {
     "name": "stdout",
     "output_type": "stream",
     "text": [
      "['September', 'October', 'November', 'May', 'March', 'June', 'July', 'Janauary', 'February', 'December', 'August', 'April']\n"
     ]
    }
   ],
   "source": [
    "#reverse in list\n",
    "months.reverse()\n",
    "print(months)"
   ]
  },
  {
   "cell_type": "code",
   "execution_count": 6,
   "metadata": {},
   "outputs": [
    {
     "name": "stdout",
     "output_type": "stream",
     "text": [
      "['September', 'October', 'November', 'May', 'March', 'June', 'July', 'Janauary', 'February', 'December', 'August', 'April', 'empty']\n"
     ]
    }
   ],
   "source": [
    "#adding elements to end of list\n",
    "months.append(\"empty\")\n",
    "print(months)"
   ]
  },
  {
   "cell_type": "code",
   "execution_count": 8,
   "metadata": {},
   "outputs": [
    {
     "name": "stdout",
     "output_type": "stream",
     "text": [
      "['September', 'jan', 'October', 'November', 'May', 'March', 'June', 'July', 'Janauary', 'February', 'December', 'August', 'April', 'empty']\n"
     ]
    }
   ],
   "source": [
    "#inserting elements at particular elements\n",
    "months.insert(1,\"jan\")\n",
    "print(months)"
   ]
  },
  {
   "cell_type": "code",
   "execution_count": 9,
   "metadata": {},
   "outputs": [
    {
     "name": "stdout",
     "output_type": "stream",
     "text": [
      "['September', 'October', 'November', 'May', 'March', 'June', 'July', 'Janauary', 'February', 'December', 'August', 'April', 'empty']\n"
     ]
    }
   ],
   "source": [
    "#removing elements using pop\n",
    "months.pop(1)\n",
    "print(months)"
   ]
  },
  {
   "cell_type": "markdown",
   "metadata": {},
   "source": [
    "# dictionary and its default function"
   ]
  },
  {
   "cell_type": "code",
   "execution_count": 23,
   "metadata": {},
   "outputs": [],
   "source": [
    "players = {'Sachin' : 10,\n",
    "          'Dhoni' : 7,              #key is immutable value is mutable,key can be string,value\n",
    "          'Kohli' : 18,\n",
    "          'Ganguly': 99}"
   ]
  },
  {
   "cell_type": "markdown",
   "metadata": {},
   "source": [
    "# default functions"
   ]
  },
  {
   "cell_type": "code",
   "execution_count": 24,
   "metadata": {},
   "outputs": [
    {
     "name": "stdout",
     "output_type": "stream",
     "text": [
      "dict_keys(['Sachin', 'Dhoni', 'Kohli', 'Ganguly'])\n"
     ]
    }
   ],
   "source": [
    "#the keys method return all the keys\n",
    "print(players.keys())"
   ]
  },
  {
   "cell_type": "code",
   "execution_count": 25,
   "metadata": {},
   "outputs": [
    {
     "name": "stdout",
     "output_type": "stream",
     "text": [
      "dict_values([10, 7, 18, 99])\n"
     ]
    }
   ],
   "source": [
    "#the values method return all the values\n",
    "print(players.values())"
   ]
  },
  {
   "cell_type": "code",
   "execution_count": 27,
   "metadata": {},
   "outputs": [
    {
     "name": "stdout",
     "output_type": "stream",
     "text": [
      "dict_items([('Sachin', 10), ('Dhoni', 7), ('Kohli', 18), ('Ganguly', 99)])\n"
     ]
    }
   ],
   "source": [
    "#item method all the keys and value pairs\n",
    "print(players.items())"
   ]
  },
  {
   "cell_type": "code",
   "execution_count": 29,
   "metadata": {},
   "outputs": [
    {
     "name": "stdout",
     "output_type": "stream",
     "text": [
      "{'Sachin': 10, 'Kohli': 18, 'Ganguly': 99}\n"
     ]
    }
   ],
   "source": [
    "#del method to delete key-value pair\n",
    "del players['Dhoni']\n",
    "print(players)"
   ]
  },
  {
   "cell_type": "code",
   "execution_count": 32,
   "metadata": {},
   "outputs": [
    {
     "name": "stdout",
     "output_type": "stream",
     "text": [
      "{'Sachin': 10, 'Kohli': 18, 'Ganguly': 99, 'sachin': 10, 'dhoni': 10}\n"
     ]
    }
   ],
   "source": [
    "#adding value to the dictionary\n",
    "players['dhoni']=10\n",
    "print(players)"
   ]
  },
  {
   "cell_type": "code",
   "execution_count": 33,
   "metadata": {},
   "outputs": [
    {
     "data": {
      "text/plain": [
       "18"
      ]
     },
     "execution_count": 33,
     "metadata": {},
     "output_type": "execute_result"
    }
   ],
   "source": [
    "#retriving a value from dict\n",
    "players.get('Kohli')"
   ]
  },
  {
   "cell_type": "markdown",
   "metadata": {},
   "source": [
    "# set and its default fumctions"
   ]
  },
  {
   "cell_type": "code",
   "execution_count": 34,
   "metadata": {},
   "outputs": [
    {
     "name": "stdout",
     "output_type": "stream",
     "text": [
      "{'c', 'DBMS', 'computernetwork', 'java', 'python'}\n"
     ]
    }
   ],
   "source": [
    "computerscience={'computernetwork','DBMS','python','java','c'}\n",
    "print(computerscience)"
   ]
  },
  {
   "cell_type": "markdown",
   "metadata": {},
   "source": [
    "# default functions"
   ]
  },
  {
   "cell_type": "code",
   "execution_count": 37,
   "metadata": {},
   "outputs": [
    {
     "name": "stdout",
     "output_type": "stream",
     "text": [
      "{'c', 'DBMS', 'computernetwork', 'javascript', 'java', 'python'}\n"
     ]
    }
   ],
   "source": [
    "#add method to add elements to the set\n",
    "computerscience.add('javascript')\n",
    "print(computerscience)"
   ]
  },
  {
   "cell_type": "code",
   "execution_count": 38,
   "metadata": {},
   "outputs": [
    {
     "name": "stdout",
     "output_type": "stream",
     "text": [
      "{'c', 'DBMS', 'computernetwork', 'javascript', 'java', 'android', 'web', 'python'}\n"
     ]
    }
   ],
   "source": [
    "#update method is used to add multiple elements to the set\n",
    "computerscience.update(['web','android'])\n",
    "print(computerscience)"
   ]
  },
  {
   "cell_type": "code",
   "execution_count": 39,
   "metadata": {},
   "outputs": [
    {
     "data": {
      "text/plain": [
       "8"
      ]
     },
     "execution_count": 39,
     "metadata": {},
     "output_type": "execute_result"
    }
   ],
   "source": [
    "#len function to know the length of the set\n",
    "len(computerscience)"
   ]
  },
  {
   "cell_type": "code",
   "execution_count": 40,
   "metadata": {},
   "outputs": [
    {
     "name": "stdout",
     "output_type": "stream",
     "text": [
      "{'c', 'DBMS', 'javascript', 'java', 'android', 'web', 'python'}\n"
     ]
    }
   ],
   "source": [
    "#remove method to remove particular element\n",
    "computerscience.remove(\"computernetwork\")\n",
    "print(computerscience)"
   ]
  },
  {
   "cell_type": "code",
   "execution_count": 41,
   "metadata": {},
   "outputs": [
    {
     "name": "stdout",
     "output_type": "stream",
     "text": [
      "{'DBMS', 'javascript', 'java', 'android', 'web', 'python'}\n"
     ]
    }
   ],
   "source": [
    "#pop method is used to remove last element\n",
    "computerscience.pop()\n",
    "print(computerscience)"
   ]
  },
  {
   "cell_type": "markdown",
   "metadata": {},
   "source": [
    "# tuple and its default function"
   ]
  },
  {
   "cell_type": "code",
   "execution_count": 1,
   "metadata": {},
   "outputs": [
    {
     "name": "stdout",
     "output_type": "stream",
     "text": [
      "('physics', 'chemistry', 1997, 2000)\n"
     ]
    }
   ],
   "source": [
    "#tuple -A tuple is a collection of objects which ordered and immutable\n",
    "tup1 = ('physics', 'chemistry', 1997, 2000)\n",
    "print(tup1)"
   ]
  },
  {
   "cell_type": "code",
   "execution_count": 7,
   "metadata": {},
   "outputs": [
    {
     "data": {
      "text/plain": [
       "1"
      ]
     },
     "execution_count": 7,
     "metadata": {},
     "output_type": "execute_result"
    }
   ],
   "source": [
    "# count function to know the number of times the element present in the tuple\n",
    "tup1.count('physics')"
   ]
  },
  {
   "cell_type": "code",
   "execution_count": 10,
   "metadata": {},
   "outputs": [
    {
     "data": {
      "text/plain": [
       "4"
      ]
     },
     "execution_count": 10,
     "metadata": {},
     "output_type": "execute_result"
    }
   ],
   "source": [
    "#length function to know the length of the\n",
    "len(tup1)"
   ]
  },
  {
   "cell_type": "code",
   "execution_count": 15,
   "metadata": {},
   "outputs": [
    {
     "data": {
      "text/plain": [
       "1"
      ]
     },
     "execution_count": 15,
     "metadata": {},
     "output_type": "execute_result"
    }
   ],
   "source": [
    "#to know the position of value\n",
    "tup1.index(\"chemistry\")"
   ]
  },
  {
   "cell_type": "code",
   "execution_count": 18,
   "metadata": {},
   "outputs": [
    {
     "name": "stdout",
     "output_type": "stream",
     "text": [
      "('physics', 'chemistry', 1997, 2000, 1, 2, 3)\n"
     ]
    }
   ],
   "source": [
    "#to join two tuples\n",
    "tup2=(1,2,3)\n",
    "tup3=tup1+tup2\n",
    "print(tup3)"
   ]
  },
  {
   "cell_type": "markdown",
   "metadata": {},
   "source": [
    "# string and its default functions\n"
   ]
  },
  {
   "cell_type": "code",
   "execution_count": 44,
   "metadata": {},
   "outputs": [],
   "source": [
    "#string example\n",
    "msg=\"hello,this is chethana from sjcit\""
   ]
  },
  {
   "cell_type": "markdown",
   "metadata": {},
   "source": [
    "# default functions"
   ]
  },
  {
   "cell_type": "code",
   "execution_count": 46,
   "metadata": {},
   "outputs": [
    {
     "data": {
      "text/plain": [
       "33"
      ]
     },
     "execution_count": 46,
     "metadata": {},
     "output_type": "execute_result"
    }
   ],
   "source": [
    "#len function to get length of the len\n",
    "len(msg)"
   ]
  },
  {
   "cell_type": "code",
   "execution_count": 48,
   "metadata": {},
   "outputs": [
    {
     "name": "stdout",
     "output_type": "stream",
     "text": [
      "HELLO,THIS IS CHETHANA FROM SJCIT\n"
     ]
    }
   ],
   "source": [
    "#upper method is used to convert all letters to upper case\n",
    "print(msg.upper())"
   ]
  },
  {
   "cell_type": "code",
   "execution_count": 49,
   "metadata": {},
   "outputs": [
    {
     "name": "stdout",
     "output_type": "stream",
     "text": [
      "hello,this is chethana from sjcit\n"
     ]
    }
   ],
   "source": [
    "#lower method is used to convert all letters to lower case\n",
    "print(msg.lower())"
   ]
  },
  {
   "cell_type": "code",
   "execution_count": 50,
   "metadata": {},
   "outputs": [
    {
     "name": "stdout",
     "output_type": "stream",
     "text": [
      "True\n"
     ]
    }
   ],
   "source": [
    "#islower returns true if the letters are lower case\n",
    "print(msg.islower())"
   ]
  },
  {
   "cell_type": "code",
   "execution_count": 51,
   "metadata": {},
   "outputs": [
    {
     "name": "stdout",
     "output_type": "stream",
     "text": [
      "False\n"
     ]
    }
   ],
   "source": [
    "#isupper returns true is all the letters are upper case\n",
    "print(msg.isupper())"
   ]
  }
 ],
 "metadata": {
  "kernelspec": {
   "display_name": "Python 3",
   "language": "python",
   "name": "python3"
  },
  "language_info": {
   "codemirror_mode": {
    "name": "ipython",
    "version": 3
   },
   "file_extension": ".py",
   "mimetype": "text/x-python",
   "name": "python",
   "nbconvert_exporter": "python",
   "pygments_lexer": "ipython3",
   "version": "3.6.5"
  }
 },
 "nbformat": 4,
 "nbformat_minor": 2
}
